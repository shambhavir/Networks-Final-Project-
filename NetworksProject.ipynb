{
  "nbformat": 4,
  "nbformat_minor": 0,
  "metadata": {
    "colab": {
      "name": "NetworksProject.ipynb",
      "provenance": [],
      "collapsed_sections": []
    },
    "kernelspec": {
      "name": "python3",
      "display_name": "Python 3"
    },
    "language_info": {
      "name": "python"
    }
  },
  "cells": [
    {
      "cell_type": "code",
      "execution_count": 1,
      "metadata": {
        "colab": {
          "base_uri": "https://localhost:8080/"
        },
        "id": "_INi3uQkvTp1",
        "outputId": "acb93b11-bf42-473a-c69e-4ec103c19d7a"
      },
      "outputs": [
        {
          "output_type": "stream",
          "name": "stdout",
          "text": [
            "Requirement already satisfied: numpy in /usr/local/lib/python3.7/dist-packages (1.21.6)\n",
            "Requirement already satisfied: pandas in /usr/local/lib/python3.7/dist-packages (1.3.5)\n",
            "Requirement already satisfied: numpy>=1.17.3 in /usr/local/lib/python3.7/dist-packages (from pandas) (1.21.6)\n",
            "Requirement already satisfied: pytz>=2017.3 in /usr/local/lib/python3.7/dist-packages (from pandas) (2022.1)\n",
            "Requirement already satisfied: python-dateutil>=2.7.3 in /usr/local/lib/python3.7/dist-packages (from pandas) (2.8.2)\n",
            "Requirement already satisfied: six>=1.5 in /usr/local/lib/python3.7/dist-packages (from python-dateutil>=2.7.3->pandas) (1.15.0)\n",
            "Collecting nashpy\n",
            "  Downloading nashpy-0.0.22.tar.gz (11 kB)\n",
            "\u001b[33mWARNING: Discarding https://files.pythonhosted.org/packages/93/1c/9005c6a0a3a3b183b5b216cc02cef14bb080fd3ee8733a1006fbcd81fffc/nashpy-0.0.22.tar.gz#sha256=9378fd492f01163ac01a7384dd94f7ffa3ce40e31fe2a08844a2e34576b3d8db (from https://pypi.org/simple/nashpy/). Command errored out with exit status 1: python setup.py egg_info Check the logs for full command output.\u001b[0m\n",
            "  Downloading nashpy-0.0.21.tar.gz (11 kB)\n",
            "Requirement already satisfied: numpy>=1.12.1 in /usr/local/lib/python3.7/dist-packages (from nashpy) (1.21.6)\n",
            "Requirement already satisfied: scipy>=0.19.0 in /usr/local/lib/python3.7/dist-packages (from nashpy) (1.4.1)\n",
            "Building wheels for collected packages: nashpy\n",
            "  Building wheel for nashpy (setup.py) ... \u001b[?25l\u001b[?25hdone\n",
            "  Created wheel for nashpy: filename=nashpy-0.0.21-py3-none-any.whl size=15280 sha256=c7bdf38cf77dc89a3c0005ca26135ec4ad2ce21c22def93f16fe288af39033a2\n",
            "  Stored in directory: /root/.cache/pip/wheels/02/08/62/cf4fa931e0a317d180936b266169a57f4bb4eb801465bbe8a1\n",
            "Successfully built nashpy\n",
            "Installing collected packages: nashpy\n",
            "Successfully installed nashpy-0.0.21\n"
          ]
        }
      ],
      "source": [
        "!pip install numpy\n",
        "!pip install pandas\n",
        "!pip install nashpy"
      ]
    },
    {
      "cell_type": "code",
      "source": [
        "!pip install data"
      ],
      "metadata": {
        "colab": {
          "base_uri": "https://localhost:8080/"
        },
        "id": "Q9PN5YiBwps2",
        "outputId": "a09cd18e-5fb4-49b2-9573-cbb22b83fd0c"
      },
      "execution_count": 2,
      "outputs": [
        {
          "output_type": "stream",
          "name": "stdout",
          "text": [
            "Collecting data\n",
            "  Downloading data-0.4.tar.gz (7.0 kB)\n",
            "Requirement already satisfied: six in /usr/local/lib/python3.7/dist-packages (from data) (1.15.0)\n",
            "Requirement already satisfied: decorator in /usr/local/lib/python3.7/dist-packages (from data) (4.4.2)\n",
            "Collecting funcsigs\n",
            "  Downloading funcsigs-1.0.2-py2.py3-none-any.whl (17 kB)\n",
            "Building wheels for collected packages: data\n",
            "  Building wheel for data (setup.py) ... \u001b[?25l\u001b[?25hdone\n",
            "  Created wheel for data: filename=data-0.4-py3-none-any.whl size=7247 sha256=941c8cd887f8da6fbee818e65bf37f9eac8b8e68fe05cd3b7be1c9c6ae8be003\n",
            "  Stored in directory: /root/.cache/pip/wheels/28/76/4b/7db27e02c1de4d2181559d108fcdfed1680ff7d3534553d460\n",
            "Successfully built data\n",
            "Installing collected packages: funcsigs, data\n",
            "Successfully installed data-0.4 funcsigs-1.0.2\n"
          ]
        }
      ]
    },
    {
      "cell_type": "code",
      "source": [
        "import random\n",
        "import nashpy as nash\n",
        "import numpy as np\n",
        "import data as dt\n",
        "import time\n",
        "import copy \n",
        "import networkx as nx \n",
        "import matplotlib.pyplot as plt\n",
        "from math import e\n",
        "from sklearn import preprocessing\n",
        "import seaborn as sns\n",
        "from decimal import Decimal\n",
        "from sklearn.cluster import KMeans\n",
        "from sklearn.decomposition import PCA\n",
        "\n",
        "data = []"
      ],
      "metadata": {
        "id": "Hp0mhjozwHFp"
      },
      "execution_count": 3,
      "outputs": []
    },
    {
      "cell_type": "code",
      "source": [
        "\n",
        "def generate_graph(graph_type, nodes, payoffs):\n",
        "  graph = nx.empty_graph(nodes, create_using=nx.DiGraph())\n",
        "  if(graph_type == \"er\"):\n",
        "    graph = nx.erdos_renyi_graph(nodes, 0.5)\n",
        "  elif(graph_type == \"ws\"):\n",
        "    graph = nx.watts_strogatz_graph(nodes, 3, 0.5)\n",
        "  for n in graph.nodes():\n",
        "    x = random.randrange(2)\n",
        "    y = random.randrange(2)\n",
        "    p = payoffs[x][y]\n",
        "    graph.nodes[n]['weight'] = p\n",
        "  return graph \n",
        "  "
      ],
      "metadata": {
        "id": "Pou4PYfWycIw"
      },
      "execution_count": 4,
      "outputs": []
    },
    {
      "cell_type": "code",
      "source": [
        "def calc_transitions(p_matrix, graph):\n",
        "    p = (p_matrix[1][1] * p_matrix[0][1]) / (p_matrix[0][0] + p_matrix[1][1] - p_matrix[0][1] - p_matrix[1][0])\n",
        "    w_pos = 0\n",
        "    w_neg = 0\n",
        "    pos_arr = []\n",
        "    neg_arr = []\n",
        "    s1 = 0 \n",
        "    s2 = 0 \n",
        "    for n in graph.nodes: \n",
        "       k_deg = graph.degree[n] \n",
        "       if(graph.nodes[n]['weight'] == p_matrix[0][0] or graph.nodes[n]['weight'] == p_matrix[1][0]):\n",
        "         s1 = s1 + 1\n",
        "       else:\n",
        "         s2 = s2 + 1\n",
        "       uk_neg_prime = k_deg * ((p*p_matrix[1][0]) + (1-p)*p_matrix[1][1])\n",
        "       uk_neg_reg = k_deg * ((p*p_matrix[0][0]) + (1 - p)*p_matrix[0][1])\n",
        "       uk_pos_prime = k_deg * ((p*p_matrix[0][0]) + (1 - p)*p_matrix[0][1])\n",
        "       uk_pos_reg = k_deg * ((p*p_matrix[1][0]) + (1-p)*p_matrix[1][1])\n",
        "       step1 = (uk_pos_reg - uk_pos_prime)/0.1\n",
        "       step2 = (uk_neg_reg - uk_neg_prime)/0.1\n",
        "       w_pos = 1/(1 + (e ** step1))\n",
        "       w_neg = 1/(1 + (e ** step2))\n",
        "       trans_pos = s1*w_pos\n",
        "       pos_arr.append(trans_pos)\n",
        "       trans_neg = s1*w_neg \n",
        "       neg_arr.append(trans_neg)\n",
        "      \n",
        "    pos_arr = np.array(pos_arr)\n",
        "    neg_arr = np.array(neg_arr)\n",
        "    normalized_pos = (pos_arr - pos_arr.min())/ (pos_arr.max() - pos_arr.min())\n",
        "    normalized_neg = (neg_arr - neg_arr.min())/ (neg_arr.max() - neg_arr.min())\n",
        "    normalized_pos.reshape(1, -1)\n",
        "    normalized_neg.reshape(1, -1)\n",
        "\n",
        "    return np.array(normalized_pos), np.array(normalized_neg)\n"
      ],
      "metadata": {
        "id": "hDrXujD_0Pgh"
      },
      "execution_count": 5,
      "outputs": []
    },
    {
      "cell_type": "code",
      "source": [
        "def calc_average(array1):\n",
        "  sum1 = 0\n",
        "  avg1 = 0\n",
        "  for i in array1:\n",
        "    sum1 = sum1 + i\n",
        "  avg1 = sum1/len(array1)\n",
        "  return avg1  "
      ],
      "metadata": {
        "id": "GWm_YgY-sPCC"
      },
      "execution_count": 6,
      "outputs": []
    },
    {
      "cell_type": "code",
      "source": [
        "def fixation_dist(a1):\n",
        "  sum1 = 0\n",
        "  sum2 = 0 \n",
        "  for i in range(len(a1)):\n",
        "    prod = 1\n",
        "    for j in range(i):\n",
        "      trans_prob = a1[i]\n",
        "      prod = prod * trans_prob\n",
        "    sum1 = sum1 + prod\n",
        "  return 1/(1 + sum1)\n",
        "  \n"
      ],
      "metadata": {
        "id": "1l8Ijo4lirzR"
      },
      "execution_count": 7,
      "outputs": []
    },
    {
      "cell_type": "code",
      "source": [
        "def monte_carlo(payoffs):\n",
        "  pos = []\n",
        "  neg = []\n",
        "  transition1 = 0 \n",
        "  transition2 = 0 \n",
        "  fin1 = []\n",
        "  fin2 = []\n",
        "  fin3 = []\n",
        "  fin4 = []\n",
        "  results1 = 0 \n",
        "  results2 = 0 \n",
        "  list1 = []\n",
        "  list2 = []\n",
        "  for i in range(10000):\n",
        "    graph1 = generate_graph(\"er\", 100, payoffs)\n",
        "    graph2 = generate_graph(\"ws\", 100, payoffs)\n",
        "\n",
        "    pos1, neg1 = calc_transitions(payoffs, graph1)\n",
        "    np.concatenate((pos1, neg1), axis = 0)\n",
        "\n",
        "\n",
        "    pos2, neg2 = calc_transitions(payoffs, graph2)\n",
        "    np.concatenate((pos2, neg2), axis = 0)\n",
        "\n",
        "    transition1 = fixation_dist(pos1)\n",
        "    results1 = results1 + transition1\n",
        "    prob1 = results1/(i + 1)\n",
        "    list1.append(prob1)\n",
        "    fin1.append(transition1)\n",
        "\n",
        "    transition2 = fixation_dist(pos2)\n",
        "    results2 = results2 + transition2\n",
        "    prob2 = results2/(i+1)\n",
        "    list2.append(prob2)\n",
        "    fin2.append(transition2)\n",
        "  \n",
        "  return fin1, fin2, list1, list2\n",
        "  "
      ],
      "metadata": {
        "id": "9sVjHngaZSd9"
      },
      "execution_count": 8,
      "outputs": []
    },
    {
      "cell_type": "code",
      "source": [
        "\n",
        "payoffs1 = np.array([[1.2, 0], [0.8, 1]])\n",
        "payoffs2 = np.array([[1.25, 0.05],[0.85, 1.05]])\n",
        "payoffs3 = np.array([[1.3, 0.1], [0.9, 1.1]])\n",
        "payoffs4 = np.array([[1.35, 0.15], [0.95, 1.15]])\n",
        "payoffs5 = np.array([[1.40, 0.20], [1, 1.20]])\n",
        "\n",
        "payoffs6 = np.array([[2.2, 1], [1.8, 2]])\n",
        "payoffs7 = np.array([[2.3, 1.1], [1.9, 2.1]])\n",
        "payoffs8 = np.array([[2.4, 1.2], [2.0, 2.2]])\n",
        "payoffs9 = np.array([[2.5, 1.3], [2.1, 2.3]])\n",
        "payoffs10 = np.array([[2.6, 1.4], [2.2, 2.4]])\n",
        " \n",
        "fin1, fin2, list1, list2 = monte_carlo(payoffs1)\n",
        "fin3, fin4, list3, list4 = monte_carlo(payoffs2)\n",
        "fin5, fin6, list5, list6 = monte_carlo(payoffs3)\n",
        "fin7, fin8, list7, list8 = monte_carlo(payoffs4)\n",
        "fin9, fin10, list9, list10 = monte_carlo(payoffs5)\n",
        "\n",
        "fin11, fin12,list11, list12  = monte_carlo(payoffs6)\n",
        "fin13, fin14, list13, list14 = monte_carlo(payoffs7)\n",
        "fin15, fin16, list15, list16 = monte_carlo(payoffs8)\n",
        "fin17, fin18, list17, list18 = monte_carlo(payoffs9)\n",
        "fin19, fin20, list19, list20 = monte_carlo(payoffs10)\n",
        "\n",
        "plt.show()\n",
        "\n",
        "fig, axes = plt.subplots(1, 2, constrained_layout = False)\n",
        "\n",
        "fig = sns.kdeplot(fin1, color = \"r\", ax = axes[0])\n",
        "fig = sns.kdeplot(fin3, color = \"b\", ax = axes[0])\n",
        "fig = sns.kdeplot(fin5, color = \"g\", ax = axes[0])\n",
        "fig = sns.kdeplot(fin7, color = \"y\", ax = axes[0])\n",
        "fig = sns.kdeplot(fin9, color = \"m\", ax = axes[0])\n",
        "\n",
        "fig = sns.kdeplot(fin11, color = \"r\", ax = axes[0])\n",
        "fig = sns.kdeplot(fin13, color = \"b\", ax = axes[0])\n",
        "fig = sns.kdeplot(fin15, color = \"g\", ax = axes[0])\n",
        "fig = sns.kdeplot(fin17, color = \"y\", ax = axes[0])\n",
        "fig = sns.kdeplot(fin19, color = \"m\", ax = axes[0])\n",
        "\n",
        "plt.legend()\n",
        "\n",
        "fig = sns.kdeplot(fin2, color = \"r\", ax = axes[1])\n",
        "fig = sns.kdeplot(fin4, color = \"b\", ax = axes[1])\n",
        "fig = sns.kdeplot(fin6, color = \"g\", ax = axes[1])\n",
        "fig = sns.kdeplot(fin8, color = \"y\", ax = axes[1])\n",
        "fig = sns.kdeplot(fin10, color = \"m\", ax = axes[1])\n",
        "\n",
        "fig = sns.kdeplot(fin12, color = \"r\", ax = axes[1])\n",
        "fig = sns.kdeplot(fin14, color = \"b\", ax = axes[1])\n",
        "fig = sns.kdeplot(fin16, color = \"g\", ax = axes[1])\n",
        "fig = sns.kdeplot(fin18, color = \"y\", ax = axes[1])\n",
        "fig = sns.kdeplot(fin20, color = \"m\", ax = axes[1])\n",
        " \n",
        "fig.figure.suptitle(\"Fixation Distributions\", fontsize=18)\n",
        "\n",
        "fig, axs = plt.subplots(5, 4)\n",
        "\n",
        "axs[0, 0].plot(list1)\n",
        "axs[0, 1].plot(list2)\n",
        "axs[0, 2].plot(list3)\n",
        "axs[0, 3].plot(list4)\n",
        "axs[1, 0].plot(list6)\n",
        "axs[2, 0].plot(list7)\n",
        "axs[3, 0].plot(list8)\n",
        "axs[4, 0].plot(list9)\n",
        "axs[1, 1].plot(list10)\n",
        "axs[1, 2].plot(list11)\n",
        "axs[1, 3].plot(list12)\n",
        "axs[2, 1].plot(list13)\n",
        "axs[2, 2].plot(list14)\n",
        "axs[2, 3].plot(list15)\n",
        "axs[3, 1].plot(list16)\n",
        "axs[3, 2].plot(list17)\n",
        "axs[3, 3].plot(list18)\n",
        "axs[4, 1].plot(list19)\n",
        "axs[4, 2].plot(list20)\n",
        "\n"
      ],
      "metadata": {
        "colab": {
          "base_uri": "https://localhost:8080/",
          "height": 402
        },
        "id": "Bn4NEB6Q6k3j",
        "outputId": "6fe7589c-f488-46f3-bfc5-21db029400a2"
      },
      "execution_count": 12,
      "outputs": [
        {
          "output_type": "stream",
          "name": "stderr",
          "text": [
            "/usr/local/lib/python3.7/dist-packages/ipykernel_launcher.py:23: RuntimeWarning: overflow encountered in double_scalars\n",
            "/usr/local/lib/python3.7/dist-packages/ipykernel_launcher.py:24: RuntimeWarning: overflow encountered in double_scalars\n",
            "/usr/local/lib/python3.7/dist-packages/ipykernel_launcher.py:40: RuntimeWarning: invalid value encountered in true_divide\n"
          ]
        },
        {
          "output_type": "error",
          "ename": "KeyboardInterrupt",
          "evalue": "ignored",
          "traceback": [
            "\u001b[0;31m---------------------------------------------------------------------------\u001b[0m",
            "\u001b[0;31mKeyboardInterrupt\u001b[0m                         Traceback (most recent call last)",
            "\u001b[0;32m<ipython-input-12-5c78b499df79>\u001b[0m in \u001b[0;36m<module>\u001b[0;34m()\u001b[0m\n\u001b[1;32m     39\u001b[0m \u001b[0mfin15\u001b[0m\u001b[0;34m,\u001b[0m \u001b[0mfin16\u001b[0m\u001b[0;34m,\u001b[0m \u001b[0mlist15\u001b[0m\u001b[0;34m,\u001b[0m \u001b[0mlist16\u001b[0m \u001b[0;34m=\u001b[0m \u001b[0mmonte_carlo\u001b[0m\u001b[0;34m(\u001b[0m\u001b[0mpayoffs8\u001b[0m\u001b[0;34m)\u001b[0m\u001b[0;34m\u001b[0m\u001b[0;34m\u001b[0m\u001b[0m\n\u001b[1;32m     40\u001b[0m \u001b[0mfin17\u001b[0m\u001b[0;34m,\u001b[0m \u001b[0mfin18\u001b[0m\u001b[0;34m,\u001b[0m \u001b[0mlist17\u001b[0m\u001b[0;34m,\u001b[0m \u001b[0mlist18\u001b[0m \u001b[0;34m=\u001b[0m \u001b[0mmonte_carlo\u001b[0m\u001b[0;34m(\u001b[0m\u001b[0mpayoffs9\u001b[0m\u001b[0;34m)\u001b[0m\u001b[0;34m\u001b[0m\u001b[0;34m\u001b[0m\u001b[0m\n\u001b[0;32m---> 41\u001b[0;31m \u001b[0mfin19\u001b[0m\u001b[0;34m,\u001b[0m \u001b[0mfin20\u001b[0m\u001b[0;34m,\u001b[0m \u001b[0mlist19\u001b[0m\u001b[0;34m,\u001b[0m \u001b[0mlist20\u001b[0m \u001b[0;34m=\u001b[0m \u001b[0mmonte_carlo\u001b[0m\u001b[0;34m(\u001b[0m\u001b[0mpayoffs10\u001b[0m\u001b[0;34m)\u001b[0m\u001b[0;34m\u001b[0m\u001b[0;34m\u001b[0m\u001b[0m\n\u001b[0m\u001b[1;32m     42\u001b[0m \u001b[0;34m\u001b[0m\u001b[0m\n\u001b[1;32m     43\u001b[0m \u001b[0mplt\u001b[0m\u001b[0;34m.\u001b[0m\u001b[0mshow\u001b[0m\u001b[0;34m(\u001b[0m\u001b[0;34m)\u001b[0m\u001b[0;34m\u001b[0m\u001b[0;34m\u001b[0m\u001b[0m\n",
            "\u001b[0;32m<ipython-input-8-1684ad355a5e>\u001b[0m in \u001b[0;36mmonte_carlo\u001b[0;34m(payoffs)\u001b[0m\n\u001b[1;32m     14\u001b[0m   \u001b[0;32mfor\u001b[0m \u001b[0mi\u001b[0m \u001b[0;32min\u001b[0m \u001b[0mrange\u001b[0m\u001b[0;34m(\u001b[0m\u001b[0;36m10000\u001b[0m\u001b[0;34m)\u001b[0m\u001b[0;34m:\u001b[0m\u001b[0;34m\u001b[0m\u001b[0;34m\u001b[0m\u001b[0m\n\u001b[1;32m     15\u001b[0m     \u001b[0mgraph1\u001b[0m \u001b[0;34m=\u001b[0m \u001b[0mgenerate_graph\u001b[0m\u001b[0;34m(\u001b[0m\u001b[0;34m\"er\"\u001b[0m\u001b[0;34m,\u001b[0m \u001b[0;36m100\u001b[0m\u001b[0;34m,\u001b[0m \u001b[0mpayoffs\u001b[0m\u001b[0;34m)\u001b[0m\u001b[0;34m\u001b[0m\u001b[0;34m\u001b[0m\u001b[0m\n\u001b[0;32m---> 16\u001b[0;31m     \u001b[0mgraph2\u001b[0m \u001b[0;34m=\u001b[0m \u001b[0mgenerate_graph\u001b[0m\u001b[0;34m(\u001b[0m\u001b[0;34m\"ws\"\u001b[0m\u001b[0;34m,\u001b[0m \u001b[0;36m100\u001b[0m\u001b[0;34m,\u001b[0m \u001b[0mpayoffs\u001b[0m\u001b[0;34m)\u001b[0m\u001b[0;34m\u001b[0m\u001b[0;34m\u001b[0m\u001b[0m\n\u001b[0m\u001b[1;32m     17\u001b[0m \u001b[0;34m\u001b[0m\u001b[0m\n\u001b[1;32m     18\u001b[0m     \u001b[0mpos1\u001b[0m\u001b[0;34m,\u001b[0m \u001b[0mneg1\u001b[0m \u001b[0;34m=\u001b[0m \u001b[0mcalc_transitions\u001b[0m\u001b[0;34m(\u001b[0m\u001b[0mpayoffs\u001b[0m\u001b[0;34m,\u001b[0m \u001b[0mgraph1\u001b[0m\u001b[0;34m)\u001b[0m\u001b[0;34m\u001b[0m\u001b[0;34m\u001b[0m\u001b[0m\n",
            "\u001b[0;31mKeyboardInterrupt\u001b[0m: "
          ]
        }
      ]
    }
  ]
}